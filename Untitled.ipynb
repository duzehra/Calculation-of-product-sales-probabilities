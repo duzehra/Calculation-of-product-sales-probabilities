{
 "cells": [
  {
   "cell_type": "code",
   "execution_count": 1,
   "id": "5f9a6026-ca69-404c-8041-6bd60c8471e5",
   "metadata": {},
   "outputs": [],
   "source": [
    "from scipy.stats import norm"
   ]
  },
  {
   "cell_type": "code",
   "execution_count": 3,
   "id": "1884a8a6-9ac0-4912-8007-80ce6940ac03",
   "metadata": {},
   "outputs": [
    {
     "data": {
      "text/plain": [
       "0.02275013194817921"
      ]
     },
     "execution_count": 3,
     "metadata": {},
     "output_type": "execute_result"
    }
   ],
   "source": [
    "1-norm.cdf(90, 80, 5)\n",
    "#80 = average number of sales per month\n",
    "#5 = standard deviation"
   ]
  },
  {
   "cell_type": "code",
   "execution_count": null,
   "id": "f38cb7c0-cb7c-427a-9204-42997e0f6c67",
   "metadata": {},
   "outputs": [],
   "source": []
  }
 ],
 "metadata": {
  "kernelspec": {
   "display_name": "Python 3",
   "language": "python",
   "name": "python3"
  },
  "language_info": {
   "codemirror_mode": {
    "name": "ipython",
    "version": 3
   },
   "file_extension": ".py",
   "mimetype": "text/x-python",
   "name": "python",
   "nbconvert_exporter": "python",
   "pygments_lexer": "ipython3",
   "version": "3.8.8"
  }
 },
 "nbformat": 4,
 "nbformat_minor": 5
}
